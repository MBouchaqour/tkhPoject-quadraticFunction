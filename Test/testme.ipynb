
{
  "nbformat": 4,
  "nbformat_minor": 0,
  "metadata": {
    "colab": {
      "name": "ApplyingMypackageProject.ipynb",
      "provenance": []
    },
    "kernelspec": {
      "name": "python3",
      "display_name": "Python 3"
    },
    "language_info": {
      "name": "python"
    }
  },
  "cells": [
    {
      "cell_type": "code",
      "metadata": {
        "id": "bAfBTZWMVqwH"
      },
      "source": [
        "pip install -i https://test.pypi.org/simple/ quadraticPack==0.0.3"
      ],
      "execution_count": null,
      "outputs": []
    },
    {
      "cell_type": "code",
      "metadata": {
        "id": "E8l6YpiNVrTn"
      },
      "source": [
        "#importing creat_function\n",
        "from quadratic_function import create_function as cr"
      ],
      "execution_count": null,
      "outputs": []
    },
    {
      "cell_type": "code",
      "metadata": {
        "id": "ljemfK9DbOc4"
      },
      "source": [
        "#Creating your function (first_step)\n",
        "f=cr.getpolynomial(12,12,1)"
      ],
      "execution_count": null,
      "outputs": []
    },
    {
      "cell_type": "code",
      "metadata": {
        "id": "ES_4IX5ebmhV"
      },
      "source": [
        "# importing point)mage function for getting images of points\n",
        "from quadratic_function import pointImage as image"
      ],
      "execution_count": null,
      "outputs": []
    },
    {
      "cell_type": "code",
      "metadata": {
        "id": "vFXTiZPIbmkP"
      },
      "source": [
        "#getting the image of a given point\n",
        "image.get_image(f,12)"
      ],
      "execution_count": null,
      "outputs": []
    },
    {
      "cell_type": "code",
      "metadata": {
        "id": "2fkIvOyzb4v-"
      },
      "source": [
        "#importing findroots file\n",
        "from quadratic_function import findroots as roots"
      ],
      "execution_count": null,
      "outputs": []
    },
    {
      "cell_type": "code",
      "metadata": {
        "id": "kA7bTDONb4zA"
      },
      "source": [
        "#solving the equation\n",
        "roots.solve_eq(12,12,1)"
      ],
      "execution_count": null,
      "outputs": []
    },
    {
      "cell_type": "code",
      "metadata": {
        "id": "sQ1ssarhb42t"
      },
      "source": [
        "#importing firstDerevative for taking the derivative of a given function at a given point\n",
        "from quadratic_function import firstDerevative as df"
      ],
      "execution_count": null,
      "outputs": []
    },
    {
      "cell_type": "code",
      "metadata": {
        "id": "IdqZmktRb45X"
      },
      "source": [
        "df.get_derivative(12,12,1,90)"
      ],
      "execution_count": null,
      "outputs": []
    },
    {
      "cell_type": "code",
      "metadata": {
        "id": "wY7hyVAQcrb3"
      },
      "source": [
        "#importing graph to graph the given function\n",
        "from quadratic_function import graph as g"
      ],
      "execution_count": null,
      "outputs": []
    },
    {
      "cell_type": "code",
      "metadata": {
        "id": "SbArZBAka00F"
      },
      "source": [
        "g.graph_function(12,12,1)"
      ],
      "execution_count": null,
      "outputs": []
    },
    {
      "cell_type": "code",
      "metadata": {
        "id": "2w0WZCFIa-Ap"
      },
      "source": [
        ""
      ],
      "execution_count": null,
      "outputs": []
    },
    {
      "cell_type": "code",
      "metadata": {
        "id": "Iv2eakErVrYh"
      },
      "source": [
        ""
      ],
      "execution_count": null,
      "outputs": []
    }
  ]
}
